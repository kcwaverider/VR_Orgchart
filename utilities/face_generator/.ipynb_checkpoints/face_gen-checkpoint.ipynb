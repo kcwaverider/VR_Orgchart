{
 "cells": [
  {
   "cell_type": "code",
   "execution_count": 26,
   "id": "02358828-ff68-4cf9-85ab-4804d6878c10",
   "metadata": {},
   "outputs": [],
   "source": [
    "female_ids = [2662, 4425, 14495, 15367, 15368, 15369, 17770, 17775, 18120, 18121, \n",
    "              18181, 18384, 18473, 18475, 2, 23164, 23167, 23170, 23179, 23892, \n",
    "              23899, 23901, 24267, 24269, 24486, 24490, 24494, 24496, 24498, 24985, \n",
    "              25023, 25192, 28348, 30858, 30859, 33927, 35461, 40590, 40728, 42619, \n",
    "              42620, 42627, 42730, 42808, 43390, 43394, 4426, 4429, 4435, 4472, 4524, \n",
    "              613, 6870, 6871, 6873, 6874, 6904, 6982, 6983, 7141, 7144, 8135, 8136, \n",
    "              8144, 8301, 8302, 8498, 8500, 9]\n",
    "\n",
    "male_ids = [1, 10681, 10682, 14494, 14784, 14785, 15365, 15366, 17768, 17769, 17893, \n",
    "            18385, 18472, 18476, 18478, 18565, 18566, 23177, 23178, 23903, 24487, \n",
    "            24725, 24937, 24938, 24979, 24982, 24984, 25024, 25190, 28353, 28357, \n",
    "            28358, 28546, 33925, 3538, 4, 40587, 40588, 40727, 40729, 40730, 42618, \n",
    "            42622, 42623, 42625, 42626, 42729, 42809, 42961, 43389, 43391, 43392, \n",
    "            43393, 4434, 4436, 4437, 4470, 4471, 4473, 5, 6, 6872, 6875, 6902, 6903, \n",
    "            6905, 7143, 8146, 8298, 8425, 43396, 43397, 43398, 43400, 43401]"
   ]
  },
  {
   "cell_type": "code",
   "execution_count": 31,
   "id": "0ffd71db-3cb0-4e5e-adb3-936d92624770",
   "metadata": {},
   "outputs": [],
   "source": [
    "import requests\n",
    "import time\n",
    "from pathlib import Path\n",
    "import hashlib\n",
    "from IPython.display import clear_output, display, HTML\n",
    "import PIL.Image\n",
    "from io import BytesIO\n",
    "import cv2\n",
    "import numpy as np\n",
    "import urllib.request\n",
    "\n",
    "class GenderDetector:\n",
    "    def __init__(self):\n",
    "        \"\"\"Initialize the gender detector with pre-trained models\"\"\"\n",
    "        self.model_files = {\n",
    "            'prototxt': 'deploy_gender.prototxt',\n",
    "            'caffemodel': 'gender_net.caffemodel'\n",
    "        }\n",
    "        \n",
    "        model_urls = {\n",
    "            'prototxt': 'https://raw.githubusercontent.com/opencv/opencv/master/samples/dnn/face_detector/deploy.prototxt',\n",
    "            'caffemodel': 'https://raw.githubusercontent.com/opencv/opencv_3rdparty/dnn_samples_face_detector_20170830/res10_300x300_ssd_iter_140000.caffemodel'\n",
    "        }\n",
    "        \n",
    "        for file_key, filename in self.model_files.items():\n",
    "            if not Path(filename).exists():\n",
    "                print(f\"Downloading {filename}...\")\n",
    "                try:\n",
    "                    response = requests.get(model_urls[file_key])\n",
    "                    response.raise_for_status()\n",
    "                    with open(filename, 'wb') as f:\n",
    "                        f.write(response.content)\n",
    "                    print(f\"Successfully downloaded {filename}\")\n",
    "                except Exception as e:\n",
    "                    print(f\"Error downloading {filename}: {e}\")\n",
    "                    raise\n",
    "        \n",
    "        print(\"Loading gender detection model...\")\n",
    "        self.net = cv2.dnn.readNet(self.model_files['caffemodel'], self.model_files['prototxt'])\n",
    "        self.gender_list = ['Male', 'Female']\n",
    "\n",
    "    def detect_gender(self, image):\n",
    "        blob = cv2.dnn.blobFromImage(image, 1.0, (227, 227), (78.4263377603, 87.7689143744, 114.895847746), swapRB=False)\n",
    "        self.net.setInput(blob)\n",
    "        gender_preds = self.net.forward()\n",
    "        gender = self.gender_list[gender_preds[0].argmax()]\n",
    "        confidence = gender_preds[0].max()\n",
    "        return gender, confidence\n",
    "\n",
    "def download_faces(female_ids, male_ids, output_dir='generated_faces', delay=1.0):\n",
    "    \"\"\"\n",
    "    Download AI-generated faces using specific ID lists\n",
    "    \n",
    "    Parameters:\n",
    "    female_ids (list): List of IDs to use for female faces\n",
    "    male_ids (list): List of IDs to use for male faces\n",
    "    output_dir (str): Directory to save the faces\n",
    "    delay (float): Delay between requests in seconds\n",
    "    \"\"\"\n",
    "    # Convert ID lists to sets for easier removal\n",
    "    female_ids = set(map(str, female_ids))  # Convert all IDs to strings\n",
    "    male_ids = set(map(str, male_ids))\n",
    "    \n",
    "    # Initialize gender detector\n",
    "    detector = GenderDetector()\n",
    "    \n",
    "    # Create output directories\n",
    "    output_path = Path(output_dir)\n",
    "    male_path = output_path / 'male'\n",
    "    female_path = output_path / 'female'\n",
    "    \n",
    "    for path in [male_path, female_path]:\n",
    "        path.mkdir(parents=True, exist_ok=True)\n",
    "    \n",
    "    # Track statistics\n",
    "    stats = {'Male': 0, 'Female': 0}\n",
    "    original_counts = {'Male': len(male_ids), 'Female': len(female_ids)}\n",
    "    seen_hashes = set()\n",
    "    \n",
    "    url = 'https://thispersondoesnotexist.com'\n",
    "    headers = {\n",
    "        'User-Agent': 'Mozilla/5.0 (Windows NT 10.0; Win64; x64) AppleWebKit/537.36 (KHTML, like Gecko) Chrome/91.0.4472.124 Safari/537.36'\n",
    "    }\n",
    "    \n",
    "    while female_ids or male_ids:\n",
    "        try:\n",
    "            # Download image\n",
    "            response = requests.get(url, headers=headers)\n",
    "            response.raise_for_status()\n",
    "            \n",
    "            # Get image data and calculate hash\n",
    "            img_data = response.content\n",
    "            img_hash = hashlib.md5(img_data).hexdigest()\n",
    "            \n",
    "            # Skip if duplicate\n",
    "            if img_hash in seen_hashes:\n",
    "                continue\n",
    "            \n",
    "            # Convert to OpenCV format for gender detection\n",
    "            nparr = np.frombuffer(img_data, np.uint8)\n",
    "            img = cv2.imdecode(nparr, cv2.IMREAD_COLOR)\n",
    "            \n",
    "            # Detect gender\n",
    "            gender, confidence = detector.detect_gender(img)\n",
    "            \n",
    "            # Skip if confidence is low or if we don't need this gender anymore\n",
    "            if confidence < 0.7:\n",
    "                continue\n",
    "            if (gender == 'Male' and not male_ids) or (gender == 'Female' and not female_ids):\n",
    "                continue\n",
    "                \n",
    "            # Get next ID from appropriate list\n",
    "            if gender == 'Male':\n",
    "                current_id = male_ids.pop()\n",
    "                save_dir = male_path\n",
    "            else:\n",
    "                current_id = female_ids.pop()\n",
    "                save_dir = female_path\n",
    "            \n",
    "            # Save image\n",
    "            image_path = save_dir / f\"{current_id}.jpg\"\n",
    "            with open(image_path, 'wb') as f:\n",
    "                f.write(img_data)\n",
    "            \n",
    "            seen_hashes.add(img_hash)\n",
    "            stats[gender] += 1\n",
    "            \n",
    "            # Display progress\n",
    "            clear_output(wait=True)\n",
    "            print(f\"Progress:\")\n",
    "            print(f\"Males: {stats['Male']}/{original_counts['Male']} ({len(male_ids)} IDs remaining)\")\n",
    "            print(f\"Females: {stats['Female']}/{original_counts['Female']} ({len(female_ids)} IDs remaining)\")\n",
    "            \n",
    "            # Display progress bars\n",
    "            male_progress = f\"\"\"\n",
    "            Males: <progress value=\"{stats['Male']}\" max=\"{original_counts['Male']}\" \n",
    "                style=\"width: 100%; height: 20px;\">\n",
    "            </progress>\n",
    "            \"\"\"\n",
    "            female_progress = f\"\"\"\n",
    "            Females: <progress value=\"{stats['Female']}\" max=\"{original_counts['Female']}\" \n",
    "                style=\"width: 100%; height: 20px;\">\n",
    "            </progress>\n",
    "            \"\"\"\n",
    "            display(HTML(male_progress + female_progress))\n",
    "            \n",
    "            time.sleep(delay)\n",
    "            \n",
    "        except Exception as e:\n",
    "            print(f\"\\nError: {e}\")\n",
    "            time.sleep(delay * 2)\n",
    "            continue\n",
    "            \n",
    "    print(f\"\\nCompleted! All IDs have been assigned:\")\n",
    "    print(f\"Males: {stats['Male']}/{original_counts['Male']}\")\n",
    "    print(f\"Females: {stats['Female']}/{original_counts['Female']}\")\n",
    "    print(f\"Images saved in: {output_path.absolute()}\")\n",
    "    return output_path, stats\n",
    "\n",
    "# Usage example:\n",
    "# First install required packages:\n",
    "# !pip install requests Pillow opencv-python numpy ipython\n",
    "\n",
    "# Then run:\n",
    "# output_path, gender_stats = download_faces(female_ids, male_ids, delay=1.0)"
   ]
  },
  {
   "cell_type": "code",
   "execution_count": null,
   "id": "f96304b7-8b13-4d8f-bdf7-9c7bc53896ee",
   "metadata": {},
   "outputs": [
    {
     "name": "stdout",
     "output_type": "stream",
     "text": [
      "Loading gender detection model...\n"
     ]
    },
    {
     "name": "stderr",
     "output_type": "stream",
     "text": [
      "[ERROR:0@922.194] global net_impl.cpp:1165 getLayerShapesRecursively OPENCV/DNN: [Convolution]:(conv1/7x7_s2): getMemoryShapes() throws exception. inputs=1 outputs=0/1 blobs=0\n",
      "[ERROR:0@922.194] global net_impl.cpp:1168 getLayerShapesRecursively     input[0] = [ 1 3 227 227 ]\n",
      "[ERROR:0@922.194] global net_impl.cpp:1178 getLayerShapesRecursively Exception message: OpenCV(4.11.0) /Users/xperience/GHA-Actions-OpenCV/_work/opencv-python/opencv-python/opencv/modules/dnn/src/layers/convolution_layer.cpp:368: error: (-215:Assertion failed) !blobs.empty() || inputs.size() > 1 in function 'getMemoryShapes'\n",
      "\n"
     ]
    },
    {
     "name": "stdout",
     "output_type": "stream",
     "text": [
      "\n",
      "Error: OpenCV(4.11.0) /Users/xperience/GHA-Actions-OpenCV/_work/opencv-python/opencv-python/opencv/modules/dnn/src/layers/convolution_layer.cpp:368: error: (-215:Assertion failed) !blobs.empty() || inputs.size() > 1 in function 'getMemoryShapes'\n",
      "\n"
     ]
    },
    {
     "name": "stderr",
     "output_type": "stream",
     "text": [
      "[ERROR:0@925.976] global net_impl.cpp:1165 getLayerShapesRecursively OPENCV/DNN: [Convolution]:(conv1/7x7_s2): getMemoryShapes() throws exception. inputs=1 outputs=0/1 blobs=0\n",
      "[ERROR:0@925.976] global net_impl.cpp:1168 getLayerShapesRecursively     input[0] = [ 1 3 227 227 ]\n",
      "[ERROR:0@925.976] global net_impl.cpp:1178 getLayerShapesRecursively Exception message: OpenCV(4.11.0) /Users/xperience/GHA-Actions-OpenCV/_work/opencv-python/opencv-python/opencv/modules/dnn/src/layers/convolution_layer.cpp:368: error: (-215:Assertion failed) !blobs.empty() || inputs.size() > 1 in function 'getMemoryShapes'\n",
      "\n"
     ]
    },
    {
     "name": "stdout",
     "output_type": "stream",
     "text": [
      "\n",
      "Error: OpenCV(4.11.0) /Users/xperience/GHA-Actions-OpenCV/_work/opencv-python/opencv-python/opencv/modules/dnn/src/layers/convolution_layer.cpp:368: error: (-215:Assertion failed) !blobs.empty() || inputs.size() > 1 in function 'getMemoryShapes'\n",
      "\n"
     ]
    },
    {
     "name": "stderr",
     "output_type": "stream",
     "text": [
      "[ERROR:0@929.689] global net_impl.cpp:1165 getLayerShapesRecursively OPENCV/DNN: [Convolution]:(conv1/7x7_s2): getMemoryShapes() throws exception. inputs=1 outputs=0/1 blobs=0\n",
      "[ERROR:0@929.689] global net_impl.cpp:1168 getLayerShapesRecursively     input[0] = [ 1 3 227 227 ]\n",
      "[ERROR:0@929.689] global net_impl.cpp:1178 getLayerShapesRecursively Exception message: OpenCV(4.11.0) /Users/xperience/GHA-Actions-OpenCV/_work/opencv-python/opencv-python/opencv/modules/dnn/src/layers/convolution_layer.cpp:368: error: (-215:Assertion failed) !blobs.empty() || inputs.size() > 1 in function 'getMemoryShapes'\n",
      "\n"
     ]
    },
    {
     "name": "stdout",
     "output_type": "stream",
     "text": [
      "\n",
      "Error: OpenCV(4.11.0) /Users/xperience/GHA-Actions-OpenCV/_work/opencv-python/opencv-python/opencv/modules/dnn/src/layers/convolution_layer.cpp:368: error: (-215:Assertion failed) !blobs.empty() || inputs.size() > 1 in function 'getMemoryShapes'\n",
      "\n"
     ]
    },
    {
     "name": "stderr",
     "output_type": "stream",
     "text": [
      "[ERROR:0@933.366] global net_impl.cpp:1165 getLayerShapesRecursively OPENCV/DNN: [Convolution]:(conv1/7x7_s2): getMemoryShapes() throws exception. inputs=1 outputs=0/1 blobs=0\n",
      "[ERROR:0@933.366] global net_impl.cpp:1168 getLayerShapesRecursively     input[0] = [ 1 3 227 227 ]\n",
      "[ERROR:0@933.366] global net_impl.cpp:1178 getLayerShapesRecursively Exception message: OpenCV(4.11.0) /Users/xperience/GHA-Actions-OpenCV/_work/opencv-python/opencv-python/opencv/modules/dnn/src/layers/convolution_layer.cpp:368: error: (-215:Assertion failed) !blobs.empty() || inputs.size() > 1 in function 'getMemoryShapes'\n",
      "\n"
     ]
    },
    {
     "name": "stdout",
     "output_type": "stream",
     "text": [
      "\n",
      "Error: OpenCV(4.11.0) /Users/xperience/GHA-Actions-OpenCV/_work/opencv-python/opencv-python/opencv/modules/dnn/src/layers/convolution_layer.cpp:368: error: (-215:Assertion failed) !blobs.empty() || inputs.size() > 1 in function 'getMemoryShapes'\n",
      "\n"
     ]
    },
    {
     "name": "stderr",
     "output_type": "stream",
     "text": [
      "[ERROR:0@937.356] global net_impl.cpp:1165 getLayerShapesRecursively OPENCV/DNN: [Convolution]:(conv1/7x7_s2): getMemoryShapes() throws exception. inputs=1 outputs=0/1 blobs=0\n",
      "[ERROR:0@937.356] global net_impl.cpp:1168 getLayerShapesRecursively     input[0] = [ 1 3 227 227 ]\n",
      "[ERROR:0@937.356] global net_impl.cpp:1178 getLayerShapesRecursively Exception message: OpenCV(4.11.0) /Users/xperience/GHA-Actions-OpenCV/_work/opencv-python/opencv-python/opencv/modules/dnn/src/layers/convolution_layer.cpp:368: error: (-215:Assertion failed) !blobs.empty() || inputs.size() > 1 in function 'getMemoryShapes'\n",
      "\n"
     ]
    },
    {
     "name": "stdout",
     "output_type": "stream",
     "text": [
      "\n",
      "Error: OpenCV(4.11.0) /Users/xperience/GHA-Actions-OpenCV/_work/opencv-python/opencv-python/opencv/modules/dnn/src/layers/convolution_layer.cpp:368: error: (-215:Assertion failed) !blobs.empty() || inputs.size() > 1 in function 'getMemoryShapes'\n",
      "\n"
     ]
    },
    {
     "name": "stderr",
     "output_type": "stream",
     "text": [
      "[ERROR:0@940.953] global net_impl.cpp:1165 getLayerShapesRecursively OPENCV/DNN: [Convolution]:(conv1/7x7_s2): getMemoryShapes() throws exception. inputs=1 outputs=0/1 blobs=0\n",
      "[ERROR:0@940.953] global net_impl.cpp:1168 getLayerShapesRecursively     input[0] = [ 1 3 227 227 ]\n",
      "[ERROR:0@940.953] global net_impl.cpp:1178 getLayerShapesRecursively Exception message: OpenCV(4.11.0) /Users/xperience/GHA-Actions-OpenCV/_work/opencv-python/opencv-python/opencv/modules/dnn/src/layers/convolution_layer.cpp:368: error: (-215:Assertion failed) !blobs.empty() || inputs.size() > 1 in function 'getMemoryShapes'\n",
      "\n"
     ]
    },
    {
     "name": "stdout",
     "output_type": "stream",
     "text": [
      "\n",
      "Error: OpenCV(4.11.0) /Users/xperience/GHA-Actions-OpenCV/_work/opencv-python/opencv-python/opencv/modules/dnn/src/layers/convolution_layer.cpp:368: error: (-215:Assertion failed) !blobs.empty() || inputs.size() > 1 in function 'getMemoryShapes'\n",
      "\n"
     ]
    },
    {
     "name": "stderr",
     "output_type": "stream",
     "text": [
      "[ERROR:0@944.595] global net_impl.cpp:1165 getLayerShapesRecursively OPENCV/DNN: [Convolution]:(conv1/7x7_s2): getMemoryShapes() throws exception. inputs=1 outputs=0/1 blobs=0\n",
      "[ERROR:0@944.595] global net_impl.cpp:1168 getLayerShapesRecursively     input[0] = [ 1 3 227 227 ]\n",
      "[ERROR:0@944.595] global net_impl.cpp:1178 getLayerShapesRecursively Exception message: OpenCV(4.11.0) /Users/xperience/GHA-Actions-OpenCV/_work/opencv-python/opencv-python/opencv/modules/dnn/src/layers/convolution_layer.cpp:368: error: (-215:Assertion failed) !blobs.empty() || inputs.size() > 1 in function 'getMemoryShapes'\n",
      "\n"
     ]
    },
    {
     "name": "stdout",
     "output_type": "stream",
     "text": [
      "\n",
      "Error: OpenCV(4.11.0) /Users/xperience/GHA-Actions-OpenCV/_work/opencv-python/opencv-python/opencv/modules/dnn/src/layers/convolution_layer.cpp:368: error: (-215:Assertion failed) !blobs.empty() || inputs.size() > 1 in function 'getMemoryShapes'\n",
      "\n"
     ]
    },
    {
     "name": "stderr",
     "output_type": "stream",
     "text": [
      "[ERROR:0@948.294] global net_impl.cpp:1165 getLayerShapesRecursively OPENCV/DNN: [Convolution]:(conv1/7x7_s2): getMemoryShapes() throws exception. inputs=1 outputs=0/1 blobs=0\n",
      "[ERROR:0@948.294] global net_impl.cpp:1168 getLayerShapesRecursively     input[0] = [ 1 3 227 227 ]\n",
      "[ERROR:0@948.294] global net_impl.cpp:1178 getLayerShapesRecursively Exception message: OpenCV(4.11.0) /Users/xperience/GHA-Actions-OpenCV/_work/opencv-python/opencv-python/opencv/modules/dnn/src/layers/convolution_layer.cpp:368: error: (-215:Assertion failed) !blobs.empty() || inputs.size() > 1 in function 'getMemoryShapes'\n",
      "\n"
     ]
    },
    {
     "name": "stdout",
     "output_type": "stream",
     "text": [
      "\n",
      "Error: OpenCV(4.11.0) /Users/xperience/GHA-Actions-OpenCV/_work/opencv-python/opencv-python/opencv/modules/dnn/src/layers/convolution_layer.cpp:368: error: (-215:Assertion failed) !blobs.empty() || inputs.size() > 1 in function 'getMemoryShapes'\n",
      "\n"
     ]
    },
    {
     "name": "stderr",
     "output_type": "stream",
     "text": [
      "[ERROR:0@951.526] global net_impl.cpp:1165 getLayerShapesRecursively OPENCV/DNN: [Convolution]:(conv1/7x7_s2): getMemoryShapes() throws exception. inputs=1 outputs=0/1 blobs=0\n",
      "[ERROR:0@951.526] global net_impl.cpp:1168 getLayerShapesRecursively     input[0] = [ 1 3 227 227 ]\n",
      "[ERROR:0@951.526] global net_impl.cpp:1178 getLayerShapesRecursively Exception message: OpenCV(4.11.0) /Users/xperience/GHA-Actions-OpenCV/_work/opencv-python/opencv-python/opencv/modules/dnn/src/layers/convolution_layer.cpp:368: error: (-215:Assertion failed) !blobs.empty() || inputs.size() > 1 in function 'getMemoryShapes'\n",
      "\n"
     ]
    },
    {
     "name": "stdout",
     "output_type": "stream",
     "text": [
      "\n",
      "Error: OpenCV(4.11.0) /Users/xperience/GHA-Actions-OpenCV/_work/opencv-python/opencv-python/opencv/modules/dnn/src/layers/convolution_layer.cpp:368: error: (-215:Assertion failed) !blobs.empty() || inputs.size() > 1 in function 'getMemoryShapes'\n",
      "\n"
     ]
    },
    {
     "name": "stderr",
     "output_type": "stream",
     "text": [
      "[ERROR:0@954.844] global net_impl.cpp:1165 getLayerShapesRecursively OPENCV/DNN: [Convolution]:(conv1/7x7_s2): getMemoryShapes() throws exception. inputs=1 outputs=0/1 blobs=0\n",
      "[ERROR:0@954.844] global net_impl.cpp:1168 getLayerShapesRecursively     input[0] = [ 1 3 227 227 ]\n",
      "[ERROR:0@954.844] global net_impl.cpp:1178 getLayerShapesRecursively Exception message: OpenCV(4.11.0) /Users/xperience/GHA-Actions-OpenCV/_work/opencv-python/opencv-python/opencv/modules/dnn/src/layers/convolution_layer.cpp:368: error: (-215:Assertion failed) !blobs.empty() || inputs.size() > 1 in function 'getMemoryShapes'\n",
      "\n"
     ]
    },
    {
     "name": "stdout",
     "output_type": "stream",
     "text": [
      "\n",
      "Error: OpenCV(4.11.0) /Users/xperience/GHA-Actions-OpenCV/_work/opencv-python/opencv-python/opencv/modules/dnn/src/layers/convolution_layer.cpp:368: error: (-215:Assertion failed) !blobs.empty() || inputs.size() > 1 in function 'getMemoryShapes'\n",
      "\n"
     ]
    },
    {
     "name": "stderr",
     "output_type": "stream",
     "text": [
      "[ERROR:0@958.046] global net_impl.cpp:1165 getLayerShapesRecursively OPENCV/DNN: [Convolution]:(conv1/7x7_s2): getMemoryShapes() throws exception. inputs=1 outputs=0/1 blobs=0\n",
      "[ERROR:0@958.046] global net_impl.cpp:1168 getLayerShapesRecursively     input[0] = [ 1 3 227 227 ]\n",
      "[ERROR:0@958.046] global net_impl.cpp:1178 getLayerShapesRecursively Exception message: OpenCV(4.11.0) /Users/xperience/GHA-Actions-OpenCV/_work/opencv-python/opencv-python/opencv/modules/dnn/src/layers/convolution_layer.cpp:368: error: (-215:Assertion failed) !blobs.empty() || inputs.size() > 1 in function 'getMemoryShapes'\n",
      "\n"
     ]
    },
    {
     "name": "stdout",
     "output_type": "stream",
     "text": [
      "\n",
      "Error: OpenCV(4.11.0) /Users/xperience/GHA-Actions-OpenCV/_work/opencv-python/opencv-python/opencv/modules/dnn/src/layers/convolution_layer.cpp:368: error: (-215:Assertion failed) !blobs.empty() || inputs.size() > 1 in function 'getMemoryShapes'\n",
      "\n"
     ]
    },
    {
     "name": "stderr",
     "output_type": "stream",
     "text": [
      "[ERROR:0@961.353] global net_impl.cpp:1165 getLayerShapesRecursively OPENCV/DNN: [Convolution]:(conv1/7x7_s2): getMemoryShapes() throws exception. inputs=1 outputs=0/1 blobs=0\n",
      "[ERROR:0@961.353] global net_impl.cpp:1168 getLayerShapesRecursively     input[0] = [ 1 3 227 227 ]\n",
      "[ERROR:0@961.353] global net_impl.cpp:1178 getLayerShapesRecursively Exception message: OpenCV(4.11.0) /Users/xperience/GHA-Actions-OpenCV/_work/opencv-python/opencv-python/opencv/modules/dnn/src/layers/convolution_layer.cpp:368: error: (-215:Assertion failed) !blobs.empty() || inputs.size() > 1 in function 'getMemoryShapes'\n",
      "\n"
     ]
    },
    {
     "name": "stdout",
     "output_type": "stream",
     "text": [
      "\n",
      "Error: OpenCV(4.11.0) /Users/xperience/GHA-Actions-OpenCV/_work/opencv-python/opencv-python/opencv/modules/dnn/src/layers/convolution_layer.cpp:368: error: (-215:Assertion failed) !blobs.empty() || inputs.size() > 1 in function 'getMemoryShapes'\n",
      "\n"
     ]
    }
   ],
   "source": [
    "download_faces(female_ids, male_ids, output_dir='generated_faces', delay=1.0)"
   ]
  },
  {
   "cell_type": "code",
   "execution_count": null,
   "id": "e7f3fbed-73ab-475c-9f89-c42ccd013ab1",
   "metadata": {},
   "outputs": [],
   "source": []
  }
 ],
 "metadata": {
  "kernelspec": {
   "display_name": "face_generator_env",
   "language": "python",
   "name": "face_generator_env"
  },
  "language_info": {
   "codemirror_mode": {
    "name": "ipython",
    "version": 3
   },
   "file_extension": ".py",
   "mimetype": "text/x-python",
   "name": "python",
   "nbconvert_exporter": "python",
   "pygments_lexer": "ipython3",
   "version": "3.9.6"
  }
 },
 "nbformat": 4,
 "nbformat_minor": 5
}
